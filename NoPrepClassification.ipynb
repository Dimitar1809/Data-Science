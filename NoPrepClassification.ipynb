{
 "cells": [
  {
   "cell_type": "markdown",
   "metadata": {},
   "source": [
    "Text Classification\n",
    "\n",
    "<!-- Source: https://github.com/chseifert/tutorials/blob/master/nlp-ie/Text-Classification.ipynb -->\n",
    "Used method: https://miguelmalvarez.com/2016/11/07/classifying-reuters-21578-collection-with-python/ \n",
    "\n",
    "\n",
    "Goal:\n",
    "- Predicting whether an article belongs to a certain category using a multi-label classifier"
   ]
  },
  {
   "cell_type": "code",
   "execution_count": 1,
   "metadata": {},
   "outputs": [
    {
     "name": "stderr",
     "output_type": "stream",
     "text": [
      "[nltk_data] Downloading package reuters to\n",
      "[nltk_data]     C:\\Users\\vreem\\AppData\\Roaming\\nltk_data...\n",
      "[nltk_data]   Package reuters is already up-to-date!\n",
      "[nltk_data] Downloading package punkt to\n",
      "[nltk_data]     C:\\Users\\vreem\\AppData\\Roaming\\nltk_data...\n",
      "[nltk_data]   Package punkt is already up-to-date!\n",
      "[nltk_data] Downloading package stopwords to\n",
      "[nltk_data]     C:\\Users\\vreem\\AppData\\Roaming\\nltk_data...\n",
      "[nltk_data]   Package stopwords is already up-to-date!\n",
      "[nltk_data] Downloading package wordnet to\n",
      "[nltk_data]     C:\\Users\\vreem\\AppData\\Roaming\\nltk_data...\n",
      "[nltk_data]   Package wordnet is already up-to-date!\n"
     ]
    },
    {
     "data": {
      "text/plain": [
       "True"
      ]
     },
     "execution_count": 1,
     "metadata": {},
     "output_type": "execute_result"
    }
   ],
   "source": [
    "import nltk\n",
    "nltk.download('reuters')\n",
    "nltk.download('punkt')\n",
    "nltk.download('stopwords')\n",
    "nltk.download('wordnet')\n"
   ]
  },
  {
   "cell_type": "code",
   "execution_count": 2,
   "metadata": {},
   "outputs": [],
   "source": [
    "#import the corpus anjd other packages\n",
    "from nltk.corpus import reuters\n",
    "import nltk\n",
    "import random\n",
    "from nltk.stem.porter import *\n",
    "from nltk.stem.wordnet import WordNetLemmatizer\n",
    "from nltk.corpus import stopwords"
   ]
  },
  {
   "cell_type": "code",
   "execution_count": 3,
   "metadata": {},
   "outputs": [
    {
     "data": {
      "text/plain": [
       "90"
      ]
     },
     "execution_count": 3,
     "metadata": {},
     "output_type": "execute_result"
    }
   ],
   "source": [
    "#get reuters\n",
    "from nltk.corpus import reuters\n",
    "reuters.categories()\n",
    "len(reuters.categories())"
   ]
  },
  {
   "cell_type": "markdown",
   "metadata": {},
   "source": [
    "Preparation"
   ]
  },
  {
   "cell_type": "code",
   "execution_count": 4,
   "metadata": {},
   "outputs": [],
   "source": [
    "# # Take in a list of raw strings, imported by [reuters.raw(file_id) for file_id in file_ids]\n",
    "# # where the documents are also lists of strings.\n",
    "# # and output a list of one string per document.\n",
    "# def make_string_per_document(documents):\n",
    "#     separated_text = []\n",
    "#     for text in documents:\n",
    "#         separated_text.append(text.splitlines())\n",
    "\n",
    "\n",
    "#     #combine the text properly\n",
    "#     combined_strings = []\n",
    "#     for text in separated_text:\n",
    "#         combined_strings.append(\"\".join(text))\n",
    "#     return combined_strings"
   ]
  },
  {
   "cell_type": "code",
   "execution_count": 5,
   "metadata": {},
   "outputs": [],
   "source": [
    "documents = reuters.fileids()\n",
    "\n",
    "train_docs_id = list(filter(lambda doc: doc.startswith(\"train\"),\n",
    "documents))\n",
    "test_docs_id = list(filter(lambda doc: doc.startswith(\"test\"),\n",
    "documents))\n",
    "\n",
    "train_docs = [reuters.raw(doc_id) for doc_id in train_docs_id]\n",
    "\n",
    "test_docs = [reuters.raw(doc_id) for doc_id in test_docs_id]\n",
    "\n",
    "\n",
    "\n"
   ]
  },
  {
   "cell_type": "code",
   "execution_count": 7,
   "metadata": {},
   "outputs": [
    {
     "name": "stderr",
     "output_type": "stream",
     "text": [
      "c:\\Users\\vreem\\anaconda3\\Lib\\site-packages\\sklearn\\svm\\_base.py:1242: ConvergenceWarning: Liblinear failed to converge, increase the number of iterations.\n",
      "  warnings.warn(\n",
      "c:\\Users\\vreem\\anaconda3\\Lib\\site-packages\\sklearn\\svm\\_base.py:1242: ConvergenceWarning: Liblinear failed to converge, increase the number of iterations.\n",
      "  warnings.warn(\n",
      "c:\\Users\\vreem\\anaconda3\\Lib\\site-packages\\sklearn\\svm\\_base.py:1242: ConvergenceWarning: Liblinear failed to converge, increase the number of iterations.\n",
      "  warnings.warn(\n"
     ]
    },
    {
     "name": "stdout",
     "output_type": "stream",
     "text": [
      "                 precision    recall  f1-score   support\n",
      "\n",
      "            acq       0.97      0.94      0.95       719\n",
      "           alum       0.75      0.26      0.39        23\n",
      "         barley       1.00      0.57      0.73        14\n",
      "            bop       0.67      0.67      0.67        30\n",
      "        carcass       1.00      0.44      0.62        18\n",
      "     castor-oil       0.00      0.00      0.00         1\n",
      "          cocoa       1.00      0.67      0.80        18\n",
      "        coconut       0.00      0.00      0.00         2\n",
      "    coconut-oil       0.00      0.00      0.00         3\n",
      "         coffee       0.93      0.93      0.93        28\n",
      "         copper       0.93      0.72      0.81        18\n",
      "     copra-cake       0.00      0.00      0.00         1\n",
      "           corn       0.92      0.79      0.85        56\n",
      "         cotton       1.00      0.40      0.57        20\n",
      "     cotton-oil       0.00      0.00      0.00         2\n",
      "            cpi       0.71      0.43      0.53        28\n",
      "            cpu       0.00      0.00      0.00         1\n",
      "          crude       0.87      0.85      0.86       189\n",
      "            dfl       0.00      0.00      0.00         1\n",
      "            dlr       0.72      0.70      0.71        44\n",
      "            dmk       0.00      0.00      0.00         4\n",
      "           earn       0.97      0.98      0.98      1087\n",
      "           fuel       0.75      0.30      0.43        10\n",
      "            gas       1.00      0.53      0.69        17\n",
      "            gnp       0.91      0.83      0.87        35\n",
      "           gold       0.96      0.73      0.83        30\n",
      "          grain       0.85      0.82      0.84       149\n",
      "      groundnut       0.00      0.00      0.00         4\n",
      "  groundnut-oil       0.00      0.00      0.00         1\n",
      "           heat       0.60      0.60      0.60         5\n",
      "            hog       1.00      0.33      0.50         6\n",
      "        housing       1.00      0.50      0.67         4\n",
      "         income       1.00      0.29      0.44         7\n",
      "    instal-debt       0.00      0.00      0.00         1\n",
      "       interest       0.82      0.66      0.73       131\n",
      "            ipi       0.92      1.00      0.96        12\n",
      "     iron-steel       0.86      0.43      0.57        14\n",
      "            jet       0.00      0.00      0.00         1\n",
      "           jobs       0.41      0.57      0.48        21\n",
      "       l-cattle       0.00      0.00      0.00         2\n",
      "           lead       0.50      0.07      0.12        14\n",
      "            lei       1.00      1.00      1.00         3\n",
      "        lin-oil       0.00      0.00      0.00         1\n",
      "      livestock       0.62      0.42      0.50        24\n",
      "         lumber       0.00      0.00      0.00         6\n",
      "      meal-feed       1.00      0.21      0.35        19\n",
      "       money-fx       0.74      0.66      0.70       179\n",
      "   money-supply       0.74      0.68      0.71        34\n",
      "        naphtha       0.00      0.00      0.00         4\n",
      "        nat-gas       0.81      0.43      0.57        30\n",
      "         nickel       0.00      0.00      0.00         1\n",
      "            nkr       0.00      0.00      0.00         2\n",
      "          nzdlr       0.00      0.00      0.00         2\n",
      "            oat       0.17      0.33      0.22         6\n",
      "        oilseed       0.69      0.51      0.59        47\n",
      "         orange       1.00      0.45      0.62        11\n",
      "      palladium       0.00      0.00      0.00         1\n",
      "       palm-oil       1.00      0.60      0.75        10\n",
      "     palmkernel       0.00      0.00      0.00         1\n",
      "       pet-chem       0.00      0.00      0.00        12\n",
      "       platinum       0.00      0.00      0.00         7\n",
      "         potato       1.00      0.33      0.50         3\n",
      "        propane       0.00      0.00      0.00         3\n",
      "           rand       0.00      0.00      0.00         1\n",
      "       rape-oil       0.00      0.00      0.00         3\n",
      "       rapeseed       1.00      0.44      0.62         9\n",
      "       reserves       0.92      0.61      0.73        18\n",
      "         retail       1.00      0.50      0.67         2\n",
      "           rice       1.00      0.50      0.67        24\n",
      "         rubber       1.00      0.58      0.74        12\n",
      "            rye       0.00      0.00      0.00         1\n",
      "           ship       0.75      0.61      0.67        89\n",
      "         silver       0.00      0.00      0.00         8\n",
      "        sorghum       0.80      0.40      0.53        10\n",
      "       soy-meal       1.00      0.15      0.27        13\n",
      "        soy-oil       0.50      0.09      0.15        11\n",
      "        soybean       0.76      0.48      0.59        33\n",
      "strategic-metal       0.00      0.00      0.00        11\n",
      "          sugar       0.97      0.78      0.86        36\n",
      "       sun-meal       0.00      0.00      0.00         1\n",
      "        sun-oil       0.00      0.00      0.00         2\n",
      "        sunseed       1.00      0.20      0.33         5\n",
      "            tea       0.00      0.00      0.00         4\n",
      "            tin       1.00      0.33      0.50        12\n",
      "          trade       0.71      0.70      0.70       117\n",
      "        veg-oil       0.90      0.51      0.66        37\n",
      "          wheat       0.89      0.82      0.85        71\n",
      "            wpi       1.00      0.80      0.89        10\n",
      "            yen       0.57      0.29      0.38        14\n",
      "           zinc       0.80      0.31      0.44        13\n",
      "\n",
      "      micro avg       0.90      0.78      0.84      3744\n",
      "      macro avg       0.55      0.35      0.41      3744\n",
      "   weighted avg       0.87      0.78      0.81      3744\n",
      "    samples avg       0.85      0.85      0.84      3744\n",
      "\n",
      "Accuracy: 0.7651540245114277\n"
     ]
    },
    {
     "name": "stderr",
     "output_type": "stream",
     "text": [
      "c:\\Users\\vreem\\anaconda3\\Lib\\site-packages\\sklearn\\metrics\\_classification.py:1469: UndefinedMetricWarning: Precision and F-score are ill-defined and being set to 0.0 in labels with no predicted samples. Use `zero_division` parameter to control this behavior.\n",
      "  _warn_prf(average, modifier, msg_start, len(result))\n",
      "c:\\Users\\vreem\\anaconda3\\Lib\\site-packages\\sklearn\\metrics\\_classification.py:1469: UndefinedMetricWarning: Precision and F-score are ill-defined and being set to 0.0 in samples with no predicted labels. Use `zero_division` parameter to control this behavior.\n",
      "  _warn_prf(average, modifier, msg_start, len(result))\n"
     ]
    }
   ],
   "source": [
    "from sklearn.feature_extraction.text import TfidfVectorizer\n",
    "from sklearn.preprocessing import MultiLabelBinarizer\n",
    "from sklearn.svm import LinearSVC\n",
    "from sklearn.multiclass import OneVsRestClassifier\n",
    "from sklearn.feature_extraction.text import CountVectorizer\n",
    "from sklearn.metrics import classification_report, accuracy_score\n",
    "\n",
    "\n",
    "\n",
    "vectorizer = CountVectorizer(stop_words=None, lowercase=False)\n",
    "X_train = vectorizer.fit_transform(train_docs)\n",
    "X_test = vectorizer.transform(test_docs)\n",
    "\n",
    "mlb = MultiLabelBinarizer()\n",
    "train_labels = mlb.fit_transform([reuters.categories(doc_id)\n",
    "for doc_id in train_docs_id])\n",
    "test_labels = mlb.transform([reuters.categories(doc_id)\n",
    "for doc_id in test_docs_id])\n",
    "\n",
    "classifier = OneVsRestClassifier(LinearSVC(random_state=42, max_iter=100000, dual='auto'))\n",
    "classifier.fit(X_train, train_labels)\n",
    "\n",
    "predictions = classifier.predict(X_test)\n",
    "\n",
    "print(classification_report(test_labels, predictions, target_names=mlb.classes_))\n",
    "\n",
    "print('Accuracy:', accuracy_score(test_labels, predictions))\n"
   ]
  },
  {
   "cell_type": "code",
   "execution_count": null,
   "metadata": {},
   "outputs": [],
   "source": []
  }
 ],
 "metadata": {
  "kernelspec": {
   "display_name": "base",
   "language": "python",
   "name": "python3"
  },
  "language_info": {
   "codemirror_mode": {
    "name": "ipython",
    "version": 3
   },
   "file_extension": ".py",
   "mimetype": "text/x-python",
   "name": "python",
   "nbconvert_exporter": "python",
   "pygments_lexer": "ipython3",
   "version": "3.11.5"
  }
 },
 "nbformat": 4,
 "nbformat_minor": 2
}
