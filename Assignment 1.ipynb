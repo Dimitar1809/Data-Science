{
 "cells": [
  {
   "cell_type": "markdown",
   "id": "4949baa0",
   "metadata": {},
   "source": [
    "# Extracting all the keyboard shortcuts from firefox discussion forums"
   ]
  },
  {
   "cell_type": "code",
   "execution_count": 33,
   "id": "17a3894e",
   "metadata": {},
   "outputs": [
    {
     "name": "stdout",
     "output_type": "stream",
     "text": [
      "564601\n",
      "['ALT+F', 'CTRL+click', 'CTRL+F', 'ALT', 'CTRL + middle', 'ALT + Left', 'ALT', 'ALT', 'META', 'ALT+D', 'CTRL', 'ALT', 'ALT', 'CTRL+Enter', 'META', 'CTRL', 'CTRL', 'ALT+d', 'META', 'ENTER', 'CTRL+K', 'ENTER', 'CTRL', 'META', 'CTRL+E', 'ALT', 'CTRL', 'CTRL+Y', 'CTRL+L', 'CTRL', 'HOME', 'ENTER', 'ENTER', 'TAB', 'TAB', 'CTRL', 'SHIFT + Tab', 'TAB', 'CTRL', 'ALT+F', 'CTRL+Backspace', 'CTRL+B', 'CTRL+I', 'CTRL+PGUP', 'CTRL+Y', 'CTRL+E', 'CTRL+TAB', 'CTRL+ALT+T', 'ENTER', 'CTRL + F', 'CTRL + F']\n",
      "51\n"
     ]
    }
   ],
   "source": [
    "from nltk.corpus import webtext\n",
    "import re\n",
    "\n",
    "name = webtext.fileids()[0] #firefox is the first from the webtexts\n",
    "text_from_forum = webtext.raw(name) #firefox.txt file\n",
    "print(len(text_from_forum))\n",
    "keyboard_shortcuts_one_word = re.findall(r'\\b(?:CTRL|ALT|SHIFT|META|\\bARROW\\b|SPACE\\s*BAR|BACKSPACE|ENTER|TAB|DELETE|HOME|END|PAGE\\s*UP|PAGE\\s*DOWN|INSERT)(?:\\s*\\+\\s*[A-Za-z0-9]+)*\\b', text_from_forum)\n",
    "\n",
    "print(keyboard_shortcuts_one_word)\n",
    "len_shortcut_word = len(keyboard_shortcuts_one_word)\n",
    "print(len_shortcut_word)\n"
   ]
  }
 ],
 "metadata": {
  "kernelspec": {
   "display_name": "Python 3 (ipykernel)",
   "language": "python",
   "name": "python3"
  },
  "language_info": {
   "codemirror_mode": {
    "name": "ipython",
    "version": 3
   },
   "file_extension": ".py",
   "mimetype": "text/x-python",
   "name": "python",
   "nbconvert_exporter": "python",
   "pygments_lexer": "ipython3",
   "version": "3.11.5"
  }
 },
 "nbformat": 4,
 "nbformat_minor": 5
}
