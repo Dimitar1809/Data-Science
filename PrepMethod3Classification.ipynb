{
 "cells": [
  {
   "cell_type": "markdown",
   "metadata": {},
   "source": [
    "Text Classification\n",
    "\n",
    "<!-- Source: https://github.com/chseifert/tutorials/blob/master/nlp-ie/Text-Classification.ipynb -->\n",
    "Used method: https://miguelmalvarez.com/2016/11/07/classifying-reuters-21578-collection-with-python/ \n",
    "\n",
    "\n",
    "Goal:\n",
    "- Predicting whether an article belongs to a certain category using a multi-label classifier"
   ]
  },
  {
   "cell_type": "code",
   "execution_count": 1,
   "metadata": {},
   "outputs": [
    {
     "name": "stderr",
     "output_type": "stream",
     "text": [
      "[nltk_data] Downloading package reuters to\n",
      "[nltk_data]     C:\\Users\\vreem\\AppData\\Roaming\\nltk_data...\n",
      "[nltk_data]   Package reuters is already up-to-date!\n",
      "[nltk_data] Downloading package punkt to\n",
      "[nltk_data]     C:\\Users\\vreem\\AppData\\Roaming\\nltk_data...\n",
      "[nltk_data]   Package punkt is already up-to-date!\n",
      "[nltk_data] Downloading package stopwords to\n",
      "[nltk_data]     C:\\Users\\vreem\\AppData\\Roaming\\nltk_data...\n",
      "[nltk_data]   Package stopwords is already up-to-date!\n",
      "[nltk_data] Downloading package wordnet to\n",
      "[nltk_data]     C:\\Users\\vreem\\AppData\\Roaming\\nltk_data...\n",
      "[nltk_data]   Package wordnet is already up-to-date!\n"
     ]
    },
    {
     "data": {
      "text/plain": [
       "True"
      ]
     },
     "execution_count": 1,
     "metadata": {},
     "output_type": "execute_result"
    }
   ],
   "source": [
    "import nltk\n",
    "nltk.download('reuters')\n",
    "nltk.download('punkt')\n",
    "nltk.download('stopwords')\n",
    "nltk.download('wordnet')\n"
   ]
  },
  {
   "cell_type": "code",
   "execution_count": 2,
   "metadata": {},
   "outputs": [],
   "source": [
    "#import the corpus anjd other packages\n",
    "from nltk.corpus import reuters\n",
    "import nltk\n",
    "import random\n",
    "from nltk.stem.porter import *\n",
    "from nltk.stem.wordnet import WordNetLemmatizer\n",
    "from nltk.corpus import stopwords"
   ]
  },
  {
   "cell_type": "code",
   "execution_count": 3,
   "metadata": {},
   "outputs": [
    {
     "data": {
      "text/plain": [
       "90"
      ]
     },
     "execution_count": 3,
     "metadata": {},
     "output_type": "execute_result"
    }
   ],
   "source": [
    "#get reuters\n",
    "from nltk.corpus import reuters\n",
    "reuters.categories()\n",
    "len(reuters.categories())"
   ]
  },
  {
   "cell_type": "markdown",
   "metadata": {},
   "source": [
    "Preparation"
   ]
  },
  {
   "cell_type": "code",
   "execution_count": 4,
   "metadata": {},
   "outputs": [],
   "source": [
    "# # Take in a list of raw strings, imported by [reuters.raw(file_id) for file_id in file_ids]\n",
    "# # where the documents are also lists of strings.\n",
    "# # and output a list of one string per document.\n",
    "# def make_string_per_document(documents):\n",
    "#     separated_text = []\n",
    "#     for text in documents:\n",
    "#         separated_text.append(text.splitlines())\n",
    "\n",
    "\n",
    "#     #combine the text properly\n",
    "#     combined_strings = []\n",
    "#     for text in separated_text:\n",
    "#         combined_strings.append(\"\".join(text))\n",
    "#     return combined_strings"
   ]
  },
  {
   "cell_type": "code",
   "execution_count": 5,
   "metadata": {},
   "outputs": [],
   "source": [
    "documents = reuters.fileids()\n",
    "\n",
    "train_docs_id = list(filter(lambda doc: doc.startswith(\"train\"),\n",
    "documents))\n",
    "test_docs_id = list(filter(lambda doc: doc.startswith(\"test\"),\n",
    "documents))\n",
    "\n",
    "train_docs = [reuters.raw(doc_id) for doc_id in train_docs_id]\n",
    "\n",
    "test_docs = [reuters.raw(doc_id) for doc_id in test_docs_id]\n",
    "\n",
    "\n",
    "\n"
   ]
  },
  {
   "cell_type": "code",
   "execution_count": 8,
   "metadata": {},
   "outputs": [],
   "source": [
    "def preprocessing_method3_stopwords(documents):\n",
    "    lower = []\n",
    "    tokens = []\n",
    "    filtered_words = []\n",
    "\n",
    "    # Fetch English stopwords\n",
    "    stop_words = set(stopwords.words('english'))\n",
    "\n",
    "    before_length = 0\n",
    "    differences = []\n",
    "    for i in range(len(documents)):\n",
    "        # Convert to lowercase\n",
    "        lower.append(documents[i].lower())\n",
    "        # Tokenize\n",
    "        tokens.append(nltk.word_tokenize(lower[i]))\n",
    "        # Stopword removal\n",
    "        filtered_words.append([word for word in tokens[i] if word not in stop_words])\n",
    "        len(documents[i])\n",
    "    \n",
    "    # Combine tokens back into strings for each document\n",
    "    combined_strings = [\" \".join(doc) for doc in filtered_words]\n",
    "    \n",
    "    return combined_strings\n",
    "\n"
   ]
  },
  {
   "cell_type": "code",
   "execution_count": 9,
   "metadata": {},
   "outputs": [
    {
     "name": "stdout",
     "output_type": "stream",
     "text": [
      "n.z . trading bank deposit growth rises slightly new zealand 's trading bank seasonally adjusted deposit growth rose 2.6 pct january compared rise 9.4 pct december , reserve bank said . year-on-year total deposits rose 30.6 pct compared 26.3 pct increase december year 34.5 pct rise year ago period , said weekly statistical release . total deposits rose 17.18 billion n.z . dlrs january compared 16.74 billion december 13.16 billion january 1986 .\n"
     ]
    }
   ],
   "source": [
    "\n",
    "preprocessed_train_docs = preprocessing_method3_stopwords(train_docs)\n",
    "preprocessed_test_docs = preprocessing_method3_stopwords(test_docs)\n",
    "#print(porter_tokens[2])\n",
    "\n"
   ]
  },
  {
   "cell_type": "code",
   "execution_count": 10,
   "metadata": {},
   "outputs": [
    {
     "name": "stdout",
     "output_type": "stream",
     "text": [
      "                 precision    recall  f1-score   support\n",
      "\n",
      "            acq       0.96      0.94      0.95       719\n",
      "           alum       1.00      0.43      0.61        23\n",
      "         barley       1.00      0.64      0.78        14\n",
      "            bop       0.78      0.70      0.74        30\n",
      "        carcass       0.86      0.67      0.75        18\n",
      "     castor-oil       0.00      0.00      0.00         1\n",
      "          cocoa       1.00      0.89      0.94        18\n",
      "        coconut       1.00      0.50      0.67         2\n",
      "    coconut-oil       0.00      0.00      0.00         3\n",
      "         coffee       0.93      0.96      0.95        28\n",
      "         copper       1.00      0.78      0.88        18\n",
      "     copra-cake       0.00      0.00      0.00         1\n",
      "           corn       0.92      0.84      0.88        56\n",
      "         cotton       1.00      0.55      0.71        20\n",
      "     cotton-oil       0.00      0.00      0.00         2\n",
      "            cpi       0.62      0.46      0.53        28\n",
      "            cpu       0.00      0.00      0.00         1\n",
      "          crude       0.85      0.87      0.86       189\n",
      "            dfl       0.00      0.00      0.00         1\n",
      "            dlr       0.76      0.77      0.76        44\n",
      "            dmk       0.00      0.00      0.00         4\n",
      "           earn       0.97      0.98      0.98      1087\n",
      "           fuel       0.75      0.30      0.43        10\n",
      "            gas       0.90      0.53      0.67        17\n",
      "            gnp       0.97      0.83      0.89        35\n",
      "           gold       0.92      0.77      0.84        30\n",
      "          grain       0.91      0.84      0.87       149\n",
      "      groundnut       0.00      0.00      0.00         4\n",
      "  groundnut-oil       0.00      0.00      0.00         1\n",
      "           heat       0.60      0.60      0.60         5\n",
      "            hog       1.00      0.33      0.50         6\n",
      "        housing       1.00      0.75      0.86         4\n",
      "         income       1.00      0.29      0.44         7\n",
      "    instal-debt       0.00      0.00      0.00         1\n",
      "       interest       0.81      0.70      0.75       131\n",
      "            ipi       0.65      0.92      0.76        12\n",
      "     iron-steel       0.70      0.50      0.58        14\n",
      "            jet       0.00      0.00      0.00         1\n",
      "           jobs       0.72      0.62      0.67        21\n",
      "       l-cattle       0.00      0.00      0.00         2\n",
      "           lead       1.00      0.71      0.83        14\n",
      "            lei       1.00      1.00      1.00         3\n",
      "        lin-oil       0.00      0.00      0.00         1\n",
      "      livestock       0.59      0.42      0.49        24\n",
      "         lumber       1.00      0.17      0.29         6\n",
      "      meal-feed       0.80      0.21      0.33        19\n",
      "       money-fx       0.71      0.70      0.70       179\n",
      "   money-supply       0.74      0.76      0.75        34\n",
      "        naphtha       1.00      0.25      0.40         4\n",
      "        nat-gas       0.70      0.53      0.60        30\n",
      "         nickel       0.00      0.00      0.00         1\n",
      "            nkr       0.00      0.00      0.00         2\n",
      "          nzdlr       0.00      0.00      0.00         2\n",
      "            oat       0.17      0.33      0.22         6\n",
      "        oilseed       0.76      0.60      0.67        47\n",
      "         orange       1.00      0.64      0.78        11\n",
      "      palladium       0.00      0.00      0.00         1\n",
      "       palm-oil       1.00      0.60      0.75        10\n",
      "     palmkernel       0.00      0.00      0.00         1\n",
      "       pet-chem       1.00      0.17      0.29        12\n",
      "       platinum       1.00      0.14      0.25         7\n",
      "         potato       1.00      0.33      0.50         3\n",
      "        propane       0.00      0.00      0.00         3\n",
      "           rand       0.00      0.00      0.00         1\n",
      "       rape-oil       0.00      0.00      0.00         3\n",
      "       rapeseed       1.00      0.44      0.62         9\n",
      "       reserves       0.86      0.67      0.75        18\n",
      "         retail       1.00      0.50      0.67         2\n",
      "           rice       1.00      0.62      0.77        24\n",
      "         rubber       1.00      0.67      0.80        12\n",
      "            rye       0.00      0.00      0.00         1\n",
      "           ship       0.77      0.70      0.73        89\n",
      "         silver       1.00      0.62      0.77         8\n",
      "        sorghum       0.67      0.40      0.50        10\n",
      "       soy-meal       1.00      0.23      0.38        13\n",
      "        soy-oil       0.33      0.09      0.14        11\n",
      "        soybean       0.73      0.58      0.64        33\n",
      "strategic-metal       0.00      0.00      0.00        11\n",
      "          sugar       0.93      0.78      0.85        36\n",
      "       sun-meal       0.00      0.00      0.00         1\n",
      "        sun-oil       0.00      0.00      0.00         2\n",
      "        sunseed       1.00      0.20      0.33         5\n",
      "            tea       0.00      0.00      0.00         4\n",
      "            tin       1.00      0.75      0.86        12\n",
      "          trade       0.77      0.74      0.76       117\n",
      "        veg-oil       0.95      0.49      0.64        37\n",
      "          wheat       0.91      0.83      0.87        71\n",
      "            wpi       0.90      0.90      0.90        10\n",
      "            yen       0.38      0.21      0.27        14\n",
      "           zinc       1.00      0.23      0.38        13\n",
      "\n",
      "      micro avg       0.90      0.81      0.85      3744\n",
      "      macro avg       0.61      0.41      0.47      3744\n",
      "   weighted avg       0.88      0.81      0.84      3744\n",
      "    samples avg       0.87      0.87      0.86      3744\n",
      "\n",
      "Accuracy: 0.7919841006955946\n"
     ]
    },
    {
     "name": "stderr",
     "output_type": "stream",
     "text": [
      "c:\\Users\\vreem\\anaconda3\\Lib\\site-packages\\sklearn\\metrics\\_classification.py:1469: UndefinedMetricWarning: Precision and F-score are ill-defined and being set to 0.0 in labels with no predicted samples. Use `zero_division` parameter to control this behavior.\n",
      "  _warn_prf(average, modifier, msg_start, len(result))\n",
      "c:\\Users\\vreem\\anaconda3\\Lib\\site-packages\\sklearn\\metrics\\_classification.py:1469: UndefinedMetricWarning: Precision and F-score are ill-defined and being set to 0.0 in samples with no predicted labels. Use `zero_division` parameter to control this behavior.\n",
      "  _warn_prf(average, modifier, msg_start, len(result))\n"
     ]
    }
   ],
   "source": [
    "from sklearn.feature_extraction.text import TfidfVectorizer\n",
    "from sklearn.preprocessing import MultiLabelBinarizer\n",
    "from sklearn.svm import LinearSVC\n",
    "from sklearn.multiclass import OneVsRestClassifier\n",
    "from sklearn.feature_extraction.text import CountVectorizer\n",
    "from sklearn.metrics import classification_report, accuracy_score\n",
    "\n",
    "\n",
    "\n",
    "vectorizer = CountVectorizer()\n",
    "X_train = vectorizer.fit_transform(preprocessed_train_docs)\n",
    "X_test = vectorizer.transform(preprocessed_test_docs)\n",
    "\n",
    "mlb = MultiLabelBinarizer()\n",
    "train_labels = mlb.fit_transform([reuters.categories(doc_id)\n",
    "for doc_id in train_docs_id])\n",
    "test_labels = mlb.transform([reuters.categories(doc_id)\n",
    "for doc_id in test_docs_id])\n",
    "\n",
    "classifier = OneVsRestClassifier(LinearSVC(random_state=42, max_iter=100000, dual='auto'))\n",
    "classifier.fit(X_train, train_labels)\n",
    "\n",
    "predictions = classifier.predict(X_test)\n",
    "\n",
    "print(classification_report(test_labels, predictions, target_names=mlb.classes_))\n",
    "\n",
    "print('Accuracy:', accuracy_score(test_labels, predictions))\n"
   ]
  },
  {
   "cell_type": "code",
   "execution_count": null,
   "metadata": {},
   "outputs": [],
   "source": []
  }
 ],
 "metadata": {
  "kernelspec": {
   "display_name": "base",
   "language": "python",
   "name": "python3"
  },
  "language_info": {
   "codemirror_mode": {
    "name": "ipython",
    "version": 3
   },
   "file_extension": ".py",
   "mimetype": "text/x-python",
   "name": "python",
   "nbconvert_exporter": "python",
   "pygments_lexer": "ipython3",
   "version": "3.11.5"
  }
 },
 "nbformat": 4,
 "nbformat_minor": 2
}
