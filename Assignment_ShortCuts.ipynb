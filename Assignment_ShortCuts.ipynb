{
 "cells": [
  {
   "cell_type": "markdown",
   "id": "7a17bf04",
   "metadata": {},
   "source": [
    "# Extracting all the keyboard shortcuts from firefox discussion forums"
   ]
  },
  {
   "cell_type": "code",
   "execution_count": 37,
   "id": "81ef066f",
   "metadata": {},
   "outputs": [
    {
     "name": "stdout",
     "output_type": "stream",
     "text": [
      "564601\n",
      "{'CTRL', 'ALT+F', 'SHIFT + Tab', 'TAB', 'CTRL+E', 'CTRL+K', 'CTRL+TAB', 'HOME', 'CTRL+I', 'ENTER', 'CTRL+B', 'CTRL+Y', 'CTRL+click', 'META', 'CTRL+F', 'ALT+d', 'ALT', 'CTRL+PGUP', 'CTRL + F', 'ALT + Left', 'CTRL+ALT+T', 'ALT+D', 'CTRL+L', 'CTRL + middle', 'CTRL+Backspace', 'CTRL+Enter'}\n",
      "26\n"
     ]
    }
   ],
   "source": [
    "from nltk.corpus import webtext\n",
    "import re\n",
    "\n",
    "name = webtext.fileids()[0] #firefox is the first from the webtexts\n",
    "text_from_forum = webtext.raw(name) #firefox.txt file\n",
    "print(len(text_from_forum))\n",
    "keyboard_shortcuts_one_word = re.findall(r'\\b(?:CTRL|ALT|SHIFT|META|\\bARROW\\b|SPACE\\s*BAR|BACKSPACE|ENTER|TAB|DELETE|HOME|END|PAGE\\s*UP|PAGE\\s*DOWN|INSERT)(?:\\s*\\+\\s*[A-Za-z0-9]+|ARROW)*\\b', text_from_forum)\n",
    "\n",
    "unique_shortcuts = set(keyboard_shortcuts_one_word)\n",
    "len_unique_shortcuts = len(unique_shortcuts)\n",
    "\n",
    "print(unique_shortcuts)\n",
    "print(len_unique_shortcuts)\n"
   ]
  },
  {
   "cell_type": "code",
   "execution_count": null,
   "id": "32ac1a93",
   "metadata": {},
   "outputs": [],
   "source": []
  }
 ],
 "metadata": {
  "kernelspec": {
   "display_name": "Python 3 (ipykernel)",
   "language": "python",
   "name": "python3"
  },
  "language_info": {
   "codemirror_mode": {
    "name": "ipython",
    "version": 3
   },
   "file_extension": ".py",
   "mimetype": "text/x-python",
   "name": "python",
   "nbconvert_exporter": "python",
   "pygments_lexer": "ipython3",
   "version": "3.11.5"
  }
 },
 "nbformat": 4,
 "nbformat_minor": 5
}
