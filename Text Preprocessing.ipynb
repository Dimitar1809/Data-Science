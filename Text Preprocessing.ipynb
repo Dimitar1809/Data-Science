{
 "cells": [
  {
   "cell_type": "raw",
   "id": "5491f9ff",
   "metadata": {},
   "source": [
    "# Preprocessing"
   ]
  },
  {
   "cell_type": "code",
   "execution_count": 1,
   "id": "74fe655d",
   "metadata": {},
   "outputs": [],
   "source": [
    "#import the corpus anjd other packages\n",
    "from nltk.corpus import reuters\n",
    "import nltk\n",
    "import random\n",
    "from nltk.stem.porter import *\n",
    "from nltk.stem.wordnet import WordNetLemmatizer\n",
    "from nltk.corpus import stopwords"
   ]
  },
  {
   "cell_type": "markdown",
   "id": "75202ac1",
   "metadata": {},
   "source": [
    "Perform three main different methods of preprocesisng\n",
    "- tokenization, lowercasing, Stemming/Lemmatization\n",
    "- tokenization, Stemming/Lemmatization\n",
    "- tokenization, stopremoval, lowercasing "
   ]
  },
  {
   "cell_type": "code",
   "execution_count": 8,
   "id": "eedf91a6",
   "metadata": {},
   "outputs": [
    {
     "data": {
      "text/plain": [
       "\"JAPAN TO REVISE LONG-TERM ENERGY DEMAND DOWNWARDS\\n  The Ministry of International Trade and\\n  Industry (MITI) will revise its long-term energy supply/demand\\n  outlook by August to meet a forecast downtrend in Japanese\\n  energy demand, ministry officials said.\\n      MITI is expected to lower the projection for primary energy\\n  supplies in the year 2000 to 550 mln kilolitres (kl) from 600\\n  mln, they said.\\n      The decision follows the emergence of structural changes in\\n  Japanese industry following the rise in the value of the yen\\n  and a decline in domestic electric power demand.\\n      MITI is planning to work out a revised energy supply/demand\\n  outlook through deliberations of committee meetings of the\\n  Agency of Natural Resources and Energy, the officials said.\\n      They said MITI will also review the breakdown of energy\\n  supply sources, including oil, nuclear, coal and natural gas.\\n      Nuclear energy provided the bulk of Japan's electric power\\n  in the fiscal year ended March 31, supplying an estimated 27\\n  pct on a kilowatt/hour basis, followed by oil (23 pct) and\\n  liquefied natural gas (21 pct), they noted.\\n  \\n\\n\""
      ]
     },
     "execution_count": 8,
     "metadata": {},
     "output_type": "execute_result"
    }
   ],
   "source": [
    "#extract the reuters corpus\n",
    "# Get the file IDs for all documents in the Reuters Corpus\n",
    "file_ids = reuters.fileids()\n",
    "\n",
    "# Load the text content of all documents\n",
    "all_texts = [reuters.raw(file_id) for file_id in file_ids]\n",
    "all_texts[2] #seee an example text"
   ]
  },
  {
   "cell_type": "code",
   "execution_count": 18,
   "id": "06113446",
   "metadata": {},
   "outputs": [
    {
     "name": "stdout",
     "output_type": "stream",
     "text": [
      "JAPAN TO REVISE LONG-TERM ENERGY DEMAND DOWNWARDS  The Ministry of International Trade and  Industry (MITI) will revise its long-term energy supply/demand  outlook by August to meet a forecast downtrend in Japanese  energy demand, ministry officials said.      MITI is expected to lower the projection for primary energy  supplies in the year 2000 to 550 mln kilolitres (kl) from 600  mln, they said.      The decision follows the emergence of structural changes in  Japanese industry following the rise in the value of the yen  and a decline in domestic electric power demand.      MITI is planning to work out a revised energy supply/demand  outlook through deliberations of committee meetings of the  Agency of Natural Resources and Energy, the officials said.      They said MITI will also review the breakdown of energy  supply sources, including oil, nuclear, coal and natural gas.      Nuclear energy provided the bulk of Japan's electric power  in the fiscal year ended March 31, supplying an estimated 27  pct on a kilowatt/hour basis, followed by oil (23 pct) and  liquefied natural gas (21 pct), they noted.  \n"
     ]
    }
   ],
   "source": [
    "#serate the text properly\n",
    "separated_text = []\n",
    "for text in all_texts:\n",
    "    separated_text.append(text.splitlines())\n",
    "separated_text[41] #seee an example text\n",
    "\n",
    "#combine the text properly\n",
    "combined_strings = []\n",
    "for text in separated_text:\n",
    "    combined_strings.append(\"\".join(text))\n",
    "print(combined_strings[2])"
   ]
  },
  {
   "cell_type": "markdown",
   "id": "0f80f9f6",
   "metadata": {},
   "source": [
    "Applying the first method:"
   ]
  },
  {
   "cell_type": "code",
   "execution_count": 7,
   "id": "e98d3ce0",
   "metadata": {},
   "outputs": [
    {
     "name": "stdout",
     "output_type": "stream",
     "text": [
      "['japan', 'to', 'revise', 'long-term', 'energy', 'demand', 'downwards', 'the', 'ministry', 'of', 'international', 'trade', 'and', 'industry', '(', 'miti', ')', 'will', 'revise', 'it', 'long-term', 'energy', 'supply/demand', 'outlook', 'by', 'august', 'to', 'meet', 'a', 'forecast', 'downtrend', 'in', 'japanese', 'energy', 'demand', ',', 'ministry', 'official', 'said', '.', 'miti', 'is', 'expected', 'to', 'lower', 'the', 'projection', 'for', 'primary', 'energy', 'supply', 'in', 'the', 'year', '2000', 'to', '550', 'mln', 'kilolitre', '(', 'kl', ')', 'from', '600', 'mln', ',', 'they', 'said', '.', 'the', 'decision', 'follows', 'the', 'emergence', 'of', 'structural', 'change', 'in', 'japanese', 'industry', 'following', 'the', 'rise', 'in', 'the', 'value', 'of', 'the', 'yen', 'and', 'a', 'decline', 'in', 'domestic', 'electric', 'power', 'demand', '.', 'miti', 'is', 'planning', 'to', 'work', 'out', 'a', 'revised', 'energy', 'supply/demand', 'outlook', 'through', 'deliberation', 'of', 'committee', 'meeting', 'of', 'the', 'agency', 'of', 'natural', 'resource', 'and', 'energy', ',', 'the', 'official', 'said', '.', 'they', 'said', 'miti', 'will', 'also', 'review', 'the', 'breakdown', 'of', 'energy', 'supply', 'source', ',', 'including', 'oil', ',', 'nuclear', ',', 'coal', 'and', 'natural', 'gas', '.', 'nuclear', 'energy', 'provided', 'the', 'bulk', 'of', 'japan', \"'s\", 'electric', 'power', 'in', 'the', 'fiscal', 'year', 'ended', 'march', '31', ',', 'supplying', 'an', 'estimated', '27', 'pct', 'on', 'a', 'kilowatt/hour', 'basis', ',', 'followed', 'by', 'oil', '(', '23', 'pct', ')', 'and', 'liquefied', 'natural', 'gas', '(', '21', 'pct', ')', ',', 'they', 'noted', '.']\n",
      "japan to revise long-term energy demand downwards the ministry of international trade and industry ( miti ) will revise it long-term energy supply/demand outlook by august to meet a forecast downtrend in japanese energy demand , ministry official said . miti is expected to lower the projection for primary energy supply in the year 2000 to 550 mln kilolitre ( kl ) from 600 mln , they said . the decision follows the emergence of structural change in japanese industry following the rise in the value of the yen and a decline in domestic electric power demand . miti is planning to work out a revised energy supply/demand outlook through deliberation of committee meeting of the agency of natural resource and energy , the official said . they said miti will also review the breakdown of energy supply source , including oil , nuclear , coal and natural gas . nuclear energy provided the bulk of japan 's electric power in the fiscal year ended march 31 , supplying an estimated 27 pct on a kilowatt/hour basis , followed by oil ( 23 pct ) and liquefied natural gas ( 21 pct ) , they noted .\n"
     ]
    }
   ],
   "source": [
    "lower = []\n",
    "tokens = []\n",
    "porter_tokens = []\n",
    "lemmas = []\n",
    "\n",
    "stemmer = PorterStemmer()\n",
    "lemmatizer = WordNetLemmatizer()\n",
    "\n",
    "for i in range(len(combined_strings)):\n",
    "    #lowercase first\n",
    "    lower.append(combined_strings[i].lower())\n",
    "    #tokenize\n",
    "    tokens.append(nltk.word_tokenize(lower[i]))\n",
    "    #stemming\n",
    "    porter_tokens.append([stemmer.stem(word) for word in tokens[i]])\n",
    "    #lemmatization\n",
    "    lemmas.append([lemmatizer.lemmatize(word) for word in tokens[i]])\n",
    "\n",
    "print(lemmas[2])\n",
    "prepps_lemmas = []\n",
    "prepps_stemmer = []\n",
    "for text in lemmas:\n",
    "    prepps_lemmas.append(\" \".join(text))\n",
    "    prepps_stemmer.append(\" \".join(text))\n",
    "print(prepps_lemmas[2])"
   ]
  },
  {
   "cell_type": "markdown",
   "id": "2f0fd7a9",
   "metadata": {},
   "source": [
    "Apply the second method:"
   ]
  },
  {
   "cell_type": "code",
   "execution_count": 10,
   "id": "43028f0b",
   "metadata": {},
   "outputs": [
    {
     "name": "stdout",
     "output_type": "stream",
     "text": [
      "['JAPAN', 'TO', 'REVISE', 'LONG-TERM', 'ENERGY', 'DEMAND', 'DOWNWARDS', 'The', 'Ministry', 'of', 'International', 'Trade', 'and', 'Industry', '(', 'MITI', ')', 'will', 'revise', 'it', 'long-term', 'energy', 'supply/demand', 'outlook', 'by', 'August', 'to', 'meet', 'a', 'forecast', 'downtrend', 'in', 'Japanese', 'energy', 'demand', ',', 'ministry', 'official', 'said', '.', 'MITI', 'is', 'expected', 'to', 'lower', 'the', 'projection', 'for', 'primary', 'energy', 'supply', 'in', 'the', 'year', '2000', 'to', '550', 'mln', 'kilolitre', '(', 'kl', ')', 'from', '600', 'mln', ',', 'they', 'said', '.', 'The', 'decision', 'follows', 'the', 'emergence', 'of', 'structural', 'change', 'in', 'Japanese', 'industry', 'following', 'the', 'rise', 'in', 'the', 'value', 'of', 'the', 'yen', 'and', 'a', 'decline', 'in', 'domestic', 'electric', 'power', 'demand', '.', 'MITI', 'is', 'planning', 'to', 'work', 'out', 'a', 'revised', 'energy', 'supply/demand', 'outlook', 'through', 'deliberation', 'of', 'committee', 'meeting', 'of', 'the', 'Agency', 'of', 'Natural', 'Resources', 'and', 'Energy', ',', 'the', 'official', 'said', '.', 'They', 'said', 'MITI', 'will', 'also', 'review', 'the', 'breakdown', 'of', 'energy', 'supply', 'source', ',', 'including', 'oil', ',', 'nuclear', ',', 'coal', 'and', 'natural', 'gas', '.', 'Nuclear', 'energy', 'provided', 'the', 'bulk', 'of', 'Japan', \"'s\", 'electric', 'power', 'in', 'the', 'fiscal', 'year', 'ended', 'March', '31', ',', 'supplying', 'an', 'estimated', '27', 'pct', 'on', 'a', 'kilowatt/hour', 'basis', ',', 'followed', 'by', 'oil', '(', '23', 'pct', ')', 'and', 'liquefied', 'natural', 'gas', '(', '21', 'pct', ')', ',', 'they', 'noted', '.']\n",
      "JAPAN TO REVISE LONG-TERM ENERGY DEMAND DOWNWARDS The Ministry of International Trade and Industry ( MITI ) will revise it long-term energy supply/demand outlook by August to meet a forecast downtrend in Japanese energy demand , ministry official said . MITI is expected to lower the projection for primary energy supply in the year 2000 to 550 mln kilolitre ( kl ) from 600 mln , they said . The decision follows the emergence of structural change in Japanese industry following the rise in the value of the yen and a decline in domestic electric power demand . MITI is planning to work out a revised energy supply/demand outlook through deliberation of committee meeting of the Agency of Natural Resources and Energy , the official said . They said MITI will also review the breakdown of energy supply source , including oil , nuclear , coal and natural gas . Nuclear energy provided the bulk of Japan 's electric power in the fiscal year ended March 31 , supplying an estimated 27 pct on a kilowatt/hour basis , followed by oil ( 23 pct ) and liquefied natural gas ( 21 pct ) , they noted .\n"
     ]
    }
   ],
   "source": [
    "tokens = []\n",
    "porter_tokens = []\n",
    "lemmas = []\n",
    "\n",
    "for i in range(len(combined_strings)):\n",
    "    #tokenize\n",
    "    tokens.append(nltk.word_tokenize(combined_strings[i]))\n",
    "    #stemming\n",
    "    porter_tokens.append([stemmer.stem(word) for word in tokens[i]])\n",
    "    #lemmatization\n",
    "    lemmas.append([lemmatizer.lemmatize(word) for word in tokens[i]])\n",
    "\n",
    "\n",
    "print(lemmas[2])\n",
    "prepps_lemmas = []\n",
    "prepps_stemmer = []\n",
    "for text in lemmas:\n",
    "    prepps_lemmas.append(\" \".join(text))\n",
    "    prepps_stemmer.append(\" \".join(text))\n",
    "print(prepps_lemmas[2])"
   ]
  },
  {
   "cell_type": "markdown",
   "id": "17063fa3",
   "metadata": {},
   "source": [
    "Apply the third method:"
   ]
  },
  {
   "cell_type": "code",
   "execution_count": null,
   "id": "890d9dbc",
   "metadata": {},
   "outputs": [],
   "source": [
    "lower = []\n",
    "tokens = []\n",
    "filtered_words = []\n",
    "\n",
    "for i in range(len(combined_strings)):\n",
    "    #lowercase first\n",
    "    lower.append(combined_strings[j].lower())\n",
    "    #tokenize\n",
    "    tokens.append(nltk.word_tokenize(lower[i]))\n",
    "    #stopword removal\n",
    "    filtered_words.append([word for word in tokens[i] if word not in stopwords.words('english')])\n",
    "    \n",
    "print(filtered_words[2])"
   ]
  }
 ],
 "metadata": {
  "kernelspec": {
   "display_name": "Python 3 (ipykernel)",
   "language": "python",
   "name": "python3"
  },
  "language_info": {
   "codemirror_mode": {
    "name": "ipython",
    "version": 3
   },
   "file_extension": ".py",
   "mimetype": "text/x-python",
   "name": "python",
   "nbconvert_exporter": "python",
   "pygments_lexer": "ipython3",
   "version": "3.11.5"
  }
 },
 "nbformat": 4,
 "nbformat_minor": 5
}
