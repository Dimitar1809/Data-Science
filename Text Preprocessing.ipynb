{
 "cells": [
  {
   "cell_type": "raw",
   "id": "5491f9ff",
   "metadata": {},
   "source": [
    "# Preprocessing"
   ]
  },
  {
   "cell_type": "code",
   "execution_count": 16,
   "id": "74fe655d",
   "metadata": {},
   "outputs": [],
   "source": [
    "#import the corpus anjd other packages\n",
    "from nltk.corpus import reuters\n",
    "import nltk\n",
    "import random\n",
    "from nltk.stem.porter import *\n",
    "from nltk.stem.wordnet import WordNetLemmatizer\n",
    "from nltk.corpus import stopwords"
   ]
  },
  {
   "cell_type": "markdown",
   "id": "75202ac1",
   "metadata": {},
   "source": [
    "Perform three main different methods of preprocesisng\n",
    "- tokenization, lowercasing, Stemming/Lemmatization\n",
    "- tokenization, Stemming/Lemmatization\n",
    "- tokenization, stopremoval, lowercasing "
   ]
  },
  {
   "cell_type": "code",
   "execution_count": 4,
   "id": "eedf91a6",
   "metadata": {},
   "outputs": [
    {
     "data": {
      "text/plain": [
       "'JARDINE MATHESON REPLACES \"B\" SHARE BY BONUS ISSUE\\n  Jardine Matheson Holdings Ltd\\n  &lt;JARD.HK> said it will withdraw the previously announced\\n  four-for-one bonus issue of \"B\" shares and replace it by a\\n  two-for-five bonus issue of ordinary shares.\\n      A statement said the firm expects to pay total dividends\\n  for 1987 of not less than 40 cents a share on the expanded\\n  capital.\\n      Jardine Matheson decided to withdraw its issue because of a\\n  joint announcement earlier today by Ronald Li, chairman of the\\n  Stock Exchange of Hong Kong, and Securities Commissioner Ray\\n  Astin, that the listings of new \"B\" shares would be barred.\\n      The official announcement said this will include the\\n  proposal by Jardine Matheson.\\n      But the Jardine statement quoted chairman Simon Keswick as\\n  saying: \"We continue to believe that the issuing of \"B\" shares\\n  would benefit shareholders, and regret that they will not be\\n  given the opportunity to vote on the matter at this stage.\"\\n      Keswick said the \"B\" share issue will benefit Jardine\\n  Matheson\\'s shareholders by giving the firm flexibility to issue\\n  ordinary shares for expansion in future without diluting\\n  existing shareholders\\' voting rights.\\n      However, he added: \"We certainly welcome (the Secretary for\\n  Monetary Affairs) David Nendick\\'s referral of this very\\n  important matter to the Standing Committee on Company Law\\n  Reform and are hopeful that the process will lead to the\\n  development of general principles which can be embraced by all\\n  constituents of the Hong Kong market.\"\\n  \\n\\n'"
      ]
     },
     "execution_count": 4,
     "metadata": {},
     "output_type": "execute_result"
    }
   ],
   "source": [
    "#extract the reuters corpus\n",
    "# Get the file IDs for all documents in the Reuters Corpus\n",
    "file_ids = reuters.fileids()\n",
    "\n",
    "# Load the text content of all documents\n",
    "all_texts = [reuters.raw(file_id) for file_id in file_ids]\n",
    "all_texts[41] #seee an example text"
   ]
  },
  {
   "cell_type": "code",
   "execution_count": 27,
   "id": "06113446",
   "metadata": {},
   "outputs": [
    {
     "name": "stdout",
     "output_type": "stream",
     "text": [
      "ANHEUSER-BUSCH JOINS BID FOR SAN MIGUEL  Anheuser-Busch Companies Inc &lt;BUD.N> has  joined several other foreign bidders for sequestered shares of  the Philippines' largest food and beverage maker San Miguel  Corp &lt;SANM.MN>, the head of a government panel which controls  the shares told Reuters.      Ramon Diaz, Secretary of the Presidential Commission on  Good Government (PCGG), said Anheuser-Busch had told the  government it was interested in buying 14 mln \"B\" shares of San  Miguel. He did not disclose the offered price.      Diaz said Australian brewer Alan Bond's Bond Corp Holdings  Ltd had offered 150 pesos per share for the \"B\" shares.      Diaz said New York investment bank Allen and Co Inc had  earlier said it was interested in buying all 38.1 mln  sequestered shares. He told Reuters last month Elders IXL Ltd  &lt;ELXA.S>, the Melbourne-based brewing company, had also bid for  the \"B\" shares.      The Hong Kong Economic Journal last month quoted a  spokesman of Australian stock broker Jacksons Ltd as saying  that &lt;Barwon Farmlands Ltd>, an Australian firm owned 30 pct by  &lt;Ariadne Australia Ltd>, was planning a Filipino branch in  order to buy the entire block of 38.1 mln shares.      Anheuser-Busch last year made a 150 mln dlr bid to buy &lt;San  Miguel Brewery Ltd>, a Hong Kong listed company which is 69.65  pct owned by &lt;Neptunia Corp Ltd>, a San Miguel Corp subsidiary.      The talks broke down last June after the two sides said  they could not agree on the terms of the sale.  \n"
     ]
    }
   ],
   "source": [
    "#serate the text properly\n",
    "separated_text = []\n",
    "for text in all_texts:\n",
    "    separated_text.append(text.splitlines())\n",
    "separated_text[41] #seee an example text\n",
    "\n",
    "#combine the text properly\n",
    "combined_strings = []\n",
    "for text in separated_text:\n",
    "    combined_strings.append(\"\".join(text))\n",
    "print(combined_strings[31])"
   ]
  },
  {
   "cell_type": "markdown",
   "id": "0f80f9f6",
   "metadata": {},
   "source": [
    "Applying the first method:"
   ]
  },
  {
   "cell_type": "code",
   "execution_count": 39,
   "id": "e98d3ce0",
   "metadata": {},
   "outputs": [
    {
     "name": "stdout",
     "output_type": "stream",
     "text": [
      "['japan', 'to', 'revise', 'long-term', 'energy', 'demand', 'downwards', 'the', 'ministry', 'of', 'international', 'trade', 'and', 'industry', '(', 'miti', ')', 'will', 'revise', 'its', 'long-term', 'energy', 'supply/demand', 'outlook', 'by', 'august', 'to', 'meet', 'a', 'forecast', 'downtrend', 'in', 'japanese', 'energy', 'demand', ',', 'ministry', 'officials', 'said', '.', 'miti', 'is', 'expected', 'to', 'lower', 'the', 'projection', 'for', 'primary', 'energy', 'supplies', 'in', 'the', 'year', '2000', 'to', '550', 'mln', 'kilolitres', '(', 'kl', ')', 'from', '600', 'mln', ',', 'they', 'said', '.', 'the', 'decision', 'follows', 'the', 'emergence', 'of', 'structural', 'changes', 'in', 'japanese', 'industry', 'following', 'the', 'rise', 'in', 'the', 'value', 'of', 'the', 'yen', 'and', 'a', 'decline', 'in', 'domestic', 'electric', 'power', 'demand', '.', 'miti', 'is', 'planning', 'to', 'work', 'out', 'a', 'revised', 'energy', 'supply/demand', 'outlook', 'through', 'deliberations', 'of', 'committee', 'meetings', 'of', 'the', 'agency', 'of', 'natural', 'resources', 'and', 'energy', ',', 'the', 'officials', 'said', '.', 'they', 'said', 'miti', 'will', 'also', 'review', 'the', 'breakdown', 'of', 'energy', 'supply', 'sources', ',', 'including', 'oil', ',', 'nuclear', ',', 'coal', 'and', 'natural', 'gas', '.', 'nuclear', 'energy', 'provided', 'the', 'bulk', 'of', 'japan', \"'s\", 'electric', 'power', 'in', 'the', 'fiscal', 'year', 'ended', 'march', '31', ',', 'supplying', 'an', 'estimated', '27', 'pct', 'on', 'a', 'kilowatt/hour', 'basis', ',', 'followed', 'by', 'oil', '(', '23', 'pct', ')', 'and', 'liquefied', 'natural', 'gas', '(', '21', 'pct', ')', ',', 'they', 'noted', '.']\n",
      "['japan', 'to', 'revise', 'long-term', 'energy', 'demand', 'downwards', 'the', 'ministry', 'of', 'international', 'trade', 'and', 'industry', '(', 'miti', ')', 'will', 'revise', 'it', 'long-term', 'energy', 'supply/demand', 'outlook', 'by', 'august', 'to', 'meet', 'a', 'forecast', 'downtrend', 'in', 'japanese', 'energy', 'demand', ',', 'ministry', 'official', 'said', '.', 'miti', 'is', 'expected', 'to', 'lower', 'the', 'projection', 'for', 'primary', 'energy', 'supply', 'in', 'the', 'year', '2000', 'to', '550', 'mln', 'kilolitre', '(', 'kl', ')', 'from', '600', 'mln', ',', 'they', 'said', '.', 'the', 'decision', 'follows', 'the', 'emergence', 'of', 'structural', 'change', 'in', 'japanese', 'industry', 'following', 'the', 'rise', 'in', 'the', 'value', 'of', 'the', 'yen', 'and', 'a', 'decline', 'in', 'domestic', 'electric', 'power', 'demand', '.', 'miti', 'is', 'planning', 'to', 'work', 'out', 'a', 'revised', 'energy', 'supply/demand', 'outlook', 'through', 'deliberation', 'of', 'committee', 'meeting', 'of', 'the', 'agency', 'of', 'natural', 'resource', 'and', 'energy', ',', 'the', 'official', 'said', '.', 'they', 'said', 'miti', 'will', 'also', 'review', 'the', 'breakdown', 'of', 'energy', 'supply', 'source', ',', 'including', 'oil', ',', 'nuclear', ',', 'coal', 'and', 'natural', 'gas', '.', 'nuclear', 'energy', 'provided', 'the', 'bulk', 'of', 'japan', \"'s\", 'electric', 'power', 'in', 'the', 'fiscal', 'year', 'ended', 'march', '31', ',', 'supplying', 'an', 'estimated', '27', 'pct', 'on', 'a', 'kilowatt/hour', 'basis', ',', 'followed', 'by', 'oil', '(', '23', 'pct', ')', 'and', 'liquefied', 'natural', 'gas', '(', '21', 'pct', ')', ',', 'they', 'noted', '.']\n"
     ]
    }
   ],
   "source": [
    "lower = []\n",
    "tokens = []\n",
    "porter_tokens = []\n",
    "lemmas = []\n",
    "\n",
    "stemmer = PorterStemmer()\n",
    "lemmatizer = WordNetLemmatizer()\n",
    "\n",
    "for i in range(len(combined_strings)):\n",
    "    #lowercase first\n",
    "    lower.append(combined_strings[i].lower())\n",
    "    #tokenize\n",
    "    tokens.append(nltk.word_tokenize(lower[i]))\n",
    "    #stemming\n",
    "    porter_tokens.append([stemmer.stem(word) for word in tokens[i]])\n",
    "    #lemmatization\n",
    "    lemmas.append([lemmatizer.lemmatize(word) for word in tokens[i]])\n",
    "\n",
    "print(tokens[2])\n",
    "#print(porter_tokens[2])\n",
    "print(lemmas[2])"
   ]
  },
  {
   "cell_type": "markdown",
   "id": "2f0fd7a9",
   "metadata": {},
   "source": [
    "Apply the second method:"
   ]
  },
  {
   "cell_type": "code",
   "execution_count": 42,
   "id": "43028f0b",
   "metadata": {},
   "outputs": [
    {
     "name": "stdout",
     "output_type": "stream",
     "text": [
      "['JAPAN', 'TO', 'REVISE', 'LONG-TERM', 'ENERGY', 'DEMAND', 'DOWNWARDS', 'The', 'Ministry', 'of', 'International', 'Trade', 'and', 'Industry', '(', 'MITI', ')', 'will', 'revise', 'its', 'long-term', 'energy', 'supply/demand', 'outlook', 'by', 'August', 'to', 'meet', 'a', 'forecast', 'downtrend', 'in', 'Japanese', 'energy', 'demand', ',', 'ministry', 'officials', 'said', '.', 'MITI', 'is', 'expected', 'to', 'lower', 'the', 'projection', 'for', 'primary', 'energy', 'supplies', 'in', 'the', 'year', '2000', 'to', '550', 'mln', 'kilolitres', '(', 'kl', ')', 'from', '600', 'mln', ',', 'they', 'said', '.', 'The', 'decision', 'follows', 'the', 'emergence', 'of', 'structural', 'changes', 'in', 'Japanese', 'industry', 'following', 'the', 'rise', 'in', 'the', 'value', 'of', 'the', 'yen', 'and', 'a', 'decline', 'in', 'domestic', 'electric', 'power', 'demand', '.', 'MITI', 'is', 'planning', 'to', 'work', 'out', 'a', 'revised', 'energy', 'supply/demand', 'outlook', 'through', 'deliberations', 'of', 'committee', 'meetings', 'of', 'the', 'Agency', 'of', 'Natural', 'Resources', 'and', 'Energy', ',', 'the', 'officials', 'said', '.', 'They', 'said', 'MITI', 'will', 'also', 'review', 'the', 'breakdown', 'of', 'energy', 'supply', 'sources', ',', 'including', 'oil', ',', 'nuclear', ',', 'coal', 'and', 'natural', 'gas', '.', 'Nuclear', 'energy', 'provided', 'the', 'bulk', 'of', 'Japan', \"'s\", 'electric', 'power', 'in', 'the', 'fiscal', 'year', 'ended', 'March', '31', ',', 'supplying', 'an', 'estimated', '27', 'pct', 'on', 'a', 'kilowatt/hour', 'basis', ',', 'followed', 'by', 'oil', '(', '23', 'pct', ')', 'and', 'liquefied', 'natural', 'gas', '(', '21', 'pct', ')', ',', 'they', 'noted', '.']\n",
      "['JAPAN', 'TO', 'REVISE', 'LONG-TERM', 'ENERGY', 'DEMAND', 'DOWNWARDS', 'The', 'Ministry', 'of', 'International', 'Trade', 'and', 'Industry', '(', 'MITI', ')', 'will', 'revise', 'it', 'long-term', 'energy', 'supply/demand', 'outlook', 'by', 'August', 'to', 'meet', 'a', 'forecast', 'downtrend', 'in', 'Japanese', 'energy', 'demand', ',', 'ministry', 'official', 'said', '.', 'MITI', 'is', 'expected', 'to', 'lower', 'the', 'projection', 'for', 'primary', 'energy', 'supply', 'in', 'the', 'year', '2000', 'to', '550', 'mln', 'kilolitre', '(', 'kl', ')', 'from', '600', 'mln', ',', 'they', 'said', '.', 'The', 'decision', 'follows', 'the', 'emergence', 'of', 'structural', 'change', 'in', 'Japanese', 'industry', 'following', 'the', 'rise', 'in', 'the', 'value', 'of', 'the', 'yen', 'and', 'a', 'decline', 'in', 'domestic', 'electric', 'power', 'demand', '.', 'MITI', 'is', 'planning', 'to', 'work', 'out', 'a', 'revised', 'energy', 'supply/demand', 'outlook', 'through', 'deliberation', 'of', 'committee', 'meeting', 'of', 'the', 'Agency', 'of', 'Natural', 'Resources', 'and', 'Energy', ',', 'the', 'official', 'said', '.', 'They', 'said', 'MITI', 'will', 'also', 'review', 'the', 'breakdown', 'of', 'energy', 'supply', 'source', ',', 'including', 'oil', ',', 'nuclear', ',', 'coal', 'and', 'natural', 'gas', '.', 'Nuclear', 'energy', 'provided', 'the', 'bulk', 'of', 'Japan', \"'s\", 'electric', 'power', 'in', 'the', 'fiscal', 'year', 'ended', 'March', '31', ',', 'supplying', 'an', 'estimated', '27', 'pct', 'on', 'a', 'kilowatt/hour', 'basis', ',', 'followed', 'by', 'oil', '(', '23', 'pct', ')', 'and', 'liquefied', 'natural', 'gas', '(', '21', 'pct', ')', ',', 'they', 'noted', '.']\n"
     ]
    }
   ],
   "source": [
    "lower = []\n",
    "tokens = []\n",
    "porter_tokens = []\n",
    "lemmas = []\n",
    "\n",
    "for i in range(len(combined_strings)):\n",
    "    #tokenize\n",
    "    tokens.append(nltk.word_tokenize(combined_strings[i]))\n",
    "    #stemming\n",
    "    porter_tokens.append([stemmer.stem(word) for word in tokens[i]])\n",
    "    #lemmatization\n",
    "    lemmas.append([lemmatizer.lemmatize(word) for word in tokens[i]])\n",
    "\n",
    "print(tokens[2])\n",
    "#print(porter_tokens[2])\n",
    "print(lemmas[2])"
   ]
  },
  {
   "cell_type": "markdown",
   "id": "17063fa3",
   "metadata": {},
   "source": [
    "Apply the third method:"
   ]
  },
  {
   "cell_type": "code",
   "execution_count": 44,
   "id": "890d9dbc",
   "metadata": {},
   "outputs": [
    {
     "name": "stderr",
     "output_type": "stream",
     "text": [
      "IOPub data rate exceeded.\n",
      "The notebook server will temporarily stop sending output\n",
      "to the client in order to avoid crashing it.\n",
      "To change this limit, set the config variable\n",
      "`--NotebookApp.iopub_data_rate_limit`.\n",
      "\n",
      "Current values:\n",
      "NotebookApp.iopub_data_rate_limit=1000000.0 (bytes/sec)\n",
      "NotebookApp.rate_limit_window=3.0 (secs)\n",
      "\n"
     ]
    }
   ],
   "source": [
    "lower = []\n",
    "tokens = []\n",
    "filtered_words = []\n",
    "\n",
    "for i in range(len(combined_strings)):\n",
    "    #lowercase first\n",
    "    lower.append(combined_strings[i].lower())\n",
    "    #tokenize\n",
    "    tokens.append(nltk.word_tokenize(lower[i]))\n",
    "    #stopword removal\n",
    "    filtered_words.append([word for word in tokens[i] if word not in stopwords.words('english')])\n",
    "    \n",
    "print(filtered_words)"
   ]
  }
 ],
 "metadata": {
  "kernelspec": {
   "display_name": "Python 3 (ipykernel)",
   "language": "python",
   "name": "python3"
  },
  "language_info": {
   "codemirror_mode": {
    "name": "ipython",
    "version": 3
   },
   "file_extension": ".py",
   "mimetype": "text/x-python",
   "name": "python",
   "nbconvert_exporter": "python",
   "pygments_lexer": "ipython3",
   "version": "3.11.5"
  }
 },
 "nbformat": 4,
 "nbformat_minor": 5
}
