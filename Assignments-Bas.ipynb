{
 "cells": [
  {
   "cell_type": "code",
   "execution_count": 1,
   "metadata": {},
   "outputs": [],
   "source": [
    "import nltk\n"
   ]
  },
  {
   "cell_type": "code",
   "execution_count": 2,
   "metadata": {},
   "outputs": [
    {
     "name": "stderr",
     "output_type": "stream",
     "text": [
      "[nltk_data] Downloading package webtext to\n",
      "[nltk_data]     C:\\Users\\vreem\\AppData\\Roaming\\nltk_data...\n",
      "[nltk_data]   Package webtext is already up-to-date!\n"
     ]
    },
    {
     "data": {
      "text/plain": [
       "True"
      ]
     },
     "execution_count": 2,
     "metadata": {},
     "output_type": "execute_result"
    }
   ],
   "source": [
    "nltk.download('webtext')"
   ]
  },
  {
   "cell_type": "code",
   "execution_count": 3,
   "metadata": {},
   "outputs": [
    {
     "name": "stdout",
     "output_type": "stream",
     "text": [
      "firefox.txt Cookie Manager: \"Don't allow sites that set removed cookies to se ...\n",
      "grail.txt SCENE 1: [wind] [clop clop clop] \n",
      "KING ARTHUR: Whoa there!  [clop ...\n",
      "overheard.txt White guy: So, do you have any plans for this evening?\n",
      "Asian girl ...\n",
      "pirates.txt PIRATES OF THE CARRIBEAN: DEAD MAN'S CHEST, by Ted Elliott & Terr ...\n",
      "singles.txt 25 SEXY MALE, seeks attrac older single lady, for discreet encoun ...\n",
      "wine.txt Lovely delicate, fragrant Rhone wine. Polished leather and strawb ...\n"
     ]
    }
   ],
   "source": [
    "\n",
    "from nltk.corpus import webtext\n",
    "for fileid in webtext.fileids():\n",
    "    print(fileid, webtext.raw(fileid)[:65], '...')\n"
   ]
  },
  {
   "cell_type": "code",
   "execution_count": 23,
   "metadata": {},
   "outputs": [
    {
     "name": "stdout",
     "output_type": "stream",
     "text": [
      "firefox.txt\n",
      "Cookie Man\n",
      "452\n",
      "['MyCheckFree.Com', 'mozdev.org', 'mozilla.org', 'http://www.scripting.com/misc/msswitchad', 'eweek.com', 'network.cookie.ena', 'tar.gz', 'mozilla.org', 'browser.urlbar.aut', 'www.foo.com', 'www.localhost.net', 'browser.helperApps.nev', 'http://www.watch.impress.co.jp', 'download.microsoft.com', 'http://bugzilla.mozilla.org', 'dyndns.org', 'News.com', 'mpg.mpe', 'photo.net', 'ja.zz', 'formhistory.dat', 'gentoo.org', 'www.aol.com', 'www.php.net', 'python.org', 'www.fnac.fr', 'keyword.URL', 'Dict.org', 'NBA.com', 'http://www.http://mozilla.org', 'preprocessor.pl', 'www.hvv.de', 't-mobile.com', 'pageInfo.xul', 'Edmunds.com', 'pagesjaunes.fr', 'document.all', 'wizard.pro', 'www.petetownshend.co', 'domainMismatch.xul', 'Mozilla.nav', 'browser.ena', 'general.smo', 'pref.xul', 'fark.com', 'www.google.com', 'pageReportFirstTime.dtd', 'browser.formfill.ena', 'o2.co.uk', 'percentage.It', 'general.smo', 'www.wamu.com', 'brand.pro', 'ew.com', 'v5-1.4a', 'window.sidebar.add', 'browser.urlbar.aut', 'formhistory.dat', 'ford.com', 'browser.xul', 'localhost.net.au', 'amazon.com', 'spashos2.rc', 'module.ver', 'make-jars.pl', 'PrintPDE.plu', 'www.excite.com', 'freshmeat.net', 'bbc.co.uk', 'location.hre', 'network.proxy.aut', 'http://www.peterre.com', 'mpopup.chi', 'window.sta', 'MozDev.org', 'browser.fixup.alt', 'ernate.ena', 'sun.com', 'www.logitech.com', 'network.cookie.lif', 'etime.day', 'browser.formfill.ena', 'browser.cache.che', 'www.mozilla.org', 'http://texturizer.net/firebird', 'mail.yahoo.com', 'www.xy.com', 'php.net', 'apple.com', 'Adobe.com', 'history.bac', 'Buy.com', 'window.ope', 'location.hre', 'FedEx.com', 'Registry.dat', 'checkbox.xml', 'findBookmark.xul', 'iWon.com', 'SmartSource.com', 'cookperm.txt', 'document.all', 'http://foo', 'choiceradio.com', 'net.au', 'network.cookie.alw', 'faltplatte.de-', 'aftonbladet.se', 'network.http.acc', 'ept.def', 'texturizer.net', 'Bestbuy.com', 'request.xls', 'yodobashi.com', 'winamp.com', 'history.bac', 'http://http://', 'browser.tabs.ope', 'ntabfor.url', 'namedItems.removeTab.nex', 'freebyte.com', 'history.bac', 'preprocessor.pl', 'theaa.com', 'loginnet.passport.com', 'browser.xul.err', 'pages.ena', 'googlesyndication.com', 'fed-ups-win32-users.net', 'printProgress.xul', 'history.go', 'foo.com', 'www.blogger.com', 'about.png', 'link.hre', 'mail.com', 'about.xht', 'trease.biz', 'fstv.org', 'freespeech.org', 'freshmeat.net', 'vons.com', 'mapy.centrum.cz', 'browser.urlbar.cli', 'dmg.gzi', 'www.pcpitstop.com', 'history.bac', 'geocaching.com', 'geocaching.com', 'MegaBBS.Tex', 'www.mozilla.org', 'news.com', 'GFXDRV.DRV', 'www.zoneedit.com', 'window.sid', 'general.useragent.ove', 'mozilla.org', 'window.sid', 'bestbuy.com', 'browser-menubar.inc', 'clipboard.aut', 'www.libpr0n.com', 'fark.com', 'aftonbladet.se', 'browser.xml', 'www.us.arm', 'NYTimes.com', 'window.Eve', 'mozilla.org', 'doubleclick.net', 'SBC.Yahoo.com', 'browser-sets.inc', 'INSTALL.EXE', 'SETUP.EXE', 'mpopup.chi', 'Slashdot.org', 'browser.xul.err', 'pages.ena', 'navigator.xul', 'nationstates.net', 'www.linuxmail.org', 'window.ope', 'amazon.com', 'window.clipboardData.set', 'mimeTypes.rdf', 'example.com', 'example.com', 'window.ope', 'customizeCharset.xul', 'signons.txt', 'KING.FM', 'freshmeat.net', 'keyword.URL', 'online.firstusa.com', 'document.for', 'http://james', 'browser.chrome.sit', 'location.hre', 'milestone.txt', 'my.yahoo.com', 'www.debian.org', 'derstandard.at', 'MozillaFirebird-0.7-win32.zip', 'mozilla.org', 'firebird-0.7.1-m', 'ac.dmg.gz', 'redirection.pl', 'login.yahoo.com', 'www.lexis.com', 'http://www.lexis.com', 'build.dtd', 'www.m-w.com', 'nu.nl', 'cube.ign.com', 'network.ena', 'HushMail.com', 'http://www.woolworth.de', 'paypal.com', 'downloads.rdf', 'www.file.com', 'allmakefiles.sh', 'downloadsRemoveExit.lab', 'osnews.com', 'build.dtd', 'signons.txt', 'download.com', 'window.ope', 'hottopic.com', 'suprnova.org', 'spinbuttons.xml', 'mozilla.org', 'www.alternate.de', 'general.aut', 'browser.xul.err', 'pages.ena', 'preprocessor.pl', 'cheaptickets.com', 'navigator.ven', 'Components.cla', 'ftp.gimp.org', 'sequent.org', 'chrome.rdf', 'chrome.rdf', 'net.inet.tcp', 'client.mk', 'http://ftp.mozilla.org/pub/mozilla.org/firebird/nightly', 'document.from.box', 'OO.org', 'image.ani', 'document.las', 'sidhe.org', 'middlemouse.pas', 'http://http://', 'www.microsoft.com', 'com.tr', 'document.wri', 'window.ope', 'window.ope', 'Mozilla.org', 'screen.ava', 'screen.ava', 'voip-info.org', 'intl.pro', 'nsCOMArray.Sor', 'mozilla.org', 'keyword.URL', 'localstore.rdf', 'texturizer.net', 'window.ale', 'window.con', 'mozilla.org', 'ProfileInternal.cur', 'document.loc', 'document.loc', 'frames.location.hre', 'firefox-0.8-i', 'xft.tar.gz', 'JSObject.cal', 'document.wri', 'window.ope', 'browser.display.foc', '10.20', 'MimeTypes.rdf', 'network.protocol-handler.app', 'window.ope', 'http://extensionroom.mozdev.org/more-info', 'browser.startup.pag', 'http://www.odeon.co.uk/odeon', 'xxx.yyy.com', 'event.can', 'history.dat', 'window.loc', 'location.hre', 'nfl.com', 'companion.xpi', 'verizonwireless.com', 'dpreview.com', 'koreanair.com', 'mail.yahoo.com', 'chrome.rdf', 'this.blu', 'document.location.hre', 'browser.cache.mem', 'ory.ena', 'belinda.ca', 'image.php', 'PrivilegeManager.ena', 'Yahoo.com', 'localstore.rdf', 'about.png', 'fark.com', 'window.ope', 'this.hre', 'style.dis', 'general.useragent.ove', 'yyy.yyyyyy.com', 'signonsandiego.com', 'run-mozilla.sh', 'window.ope', 'blah-blah.wav', 'launch.yahoo.com', 'browser-sets.inc', 'smartmoney.com', 'http://www.cctvusa.com', 'abc.com', 'www.mp3.de', 'window.ope', 'outwar.com', 'outwar.com', 'window.location.hre', 'window.ope', 'XULElement.sel', 'msn.at', 'event.ctr', 'event.key', 'radio.xml', 'consoleBindings.xml', 'window.ope', 'brand.dtd', 'www.dom', 'console.log', 'signons.txt', 'www.microsoft.com', 'vgpro.com', 'readme.txt', 'license.txt', 'document.wri', 'document.for', 'FIELDNAME.foc', 'window.ope', 'default.xpm', 'mozicon16.xpm', 'README.TXT', 'http://www.trenitalia.com/home/it', 'www.rmvplus.de', 'vanguard.com', 'localhost.be', 'usaa.com', 'Matcheroo.com', 'divElement.style.Moz', 'https://www.fortify.net', 'Secmod.db', 'tar.gz', 'tar.gz', 'www.microsoft.com', 'ebay.de', 'http://irc-galleria.net', 'objectid.style.cur', 'odb.gif', 'odbbb.gif', 'window.ope', 'koss.com', 'blogger.com', 'www.uboot.com', 'navigator.app', 'InstallTrigger.ins', 'nsIFile.rem', 'google.com', 'browser.tabs.loa', 'http://http', 'microsoft.com', 'nsExtensionManager.js.in', 'install.rdf', 'www.microsoft.com', 'textbox.foc', 'jpbe.net', 'general.useragent.con', 'security.dia', 'update.rdf', 'browser.formfill.ena', 'XPCOM.Eve', 'chrome.rdf', 'gametimesonline.com', 'contents.rdf', 'http://www.mozilla.org/products', 'chrome.rdf', 'browser.urlbar.aut', 'document.rptViewReportForm.sub', 'www.lycos.co', 'viewFader.png', 'run-mozilla.sh', 'tylock.com', 'mozilla.org', '7zip.bat', 'www.calciomercato.com', 'nglayout.initialpaint.del', 'crypto.sig', 'allposters.com', 'http://labs.google.com/cgi-bin', 'home.pacbell.net/atai', 'pluginreg.dat', 'registry.dat', 'hku.hk', 'www.odeon.co', 'utilityOverlay.xul', 'AOL.com', 'main.asp', 'moravian.edu', 'www.atozwebtools.com', 'network.http.max', 'pcworld.co.uk', 'campusi.com', 'config.tri', 'browser.fixup.alt', 'ernate.suf', 'noaa.gov', 'mycard.fleet.com/cma', 'yahoo.com', 'www.X.com', 'window.sho', 'install.rdf', 'window.ope', 'screen.wid', 'http://www.timbressuisses.ch', 'www.vipernetworks.com', 'docshell.frameloadcheck.dis', 'export.csv', 'customizeToolbar.xul', 'https://www.eposasp.com/ebpp', 'ulasponsel.com', 'window.fin', 'www.yahoo.com', 'rottentomatoes.com', 'chrome.rdf', 'install.rdf', 'www.intellicast.com', 'www.w3c.org', 'gay.com', 'SitePoint.com', 'dom.dis', 'MyNetscape.com', 'browser.downloadmanager.beh']\n"
     ]
    }
   ],
   "source": [
    "from nltk.corpus import webtext\n",
    "import re\n",
    "\n",
    "name = webtext.fileids()[0] #firefox\n",
    "print(name)\n",
    "text_from_forum = webtext.raw(name)\n",
    "print(text_from_forum[:10])\n",
    "\n",
    "\n",
    "url_regex = (\n",
    "    # accept everything which has a https:// or http:// in front\n",
    "    r'https?:\\/\\/[^\\s]+' # http:// or https:// , this is always a URL \n",
    "    r'|'\n",
    "    r'(?:https?:\\/\\/)?[a-zA-Z0-9-]{2,}(?:\\.[a-zA-Z0-9-]+){1,2}\\/[a-zA-Z0-9]{2,}'  # URL with path\n",
    "    r'|'\n",
    "    r'[a-zA-Z0-9-]{2,}(?:\\.[a-zA-Z0-9-]+)?(?:\\.[a-zA-Z0-9-]{2,3})'  # URL without path\n",
    ")\n",
    "potential_urls = re.findall(url_regex, text_from_forum)\n",
    "\n",
    "excluded_extensions = ('.js', '.ico', '.coo', '.so', '.css', '.exe', '.dll', '.win', '.html', '.htm', '.cpp', '.DLL', '.src', '.ima', '.jar', '.jav', '.csv', '.doc', '.docx')\n",
    "\n",
    "# Filter out URLs ending with the specified extensions\n",
    "filtered_urls = [url for url in potential_urls if not url.endswith(excluded_extensions)]\n",
    "\n",
    "print(len(filtered_urls))\n",
    "print(filtered_urls) \n",
    "\n"
   ]
  }
 ],
 "metadata": {
  "kernelspec": {
   "display_name": "base",
   "language": "python",
   "name": "python3"
  },
  "language_info": {
   "codemirror_mode": {
    "name": "ipython",
    "version": 3
   },
   "file_extension": ".py",
   "mimetype": "text/x-python",
   "name": "python",
   "nbconvert_exporter": "python",
   "pygments_lexer": "ipython3",
   "version": "3.11.5"
  }
 },
 "nbformat": 4,
 "nbformat_minor": 2
}
